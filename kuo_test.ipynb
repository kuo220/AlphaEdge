{
 "cells": [
  {
   "cell_type": "code",
   "execution_count": null,
   "metadata": {},
   "outputs": [],
   "source": [
    "import sys\n",
    "import os\n",
    "import shutil\n",
    "import time\n",
    "import datetime\n",
    "import sqlite3\n",
    "from io import StringIO\n",
    "import shioaji as sj\n",
    "from pathlib import Path\n",
    "import requests\n",
    "import pandas as pd\n",
    "import numpy as np\n",
    "from typing import List, Dict, Set, Optional\n",
    "import json\n",
    "from io import StringIO\n",
    "\n",
    "\"\"\" Crawler \"\"\"\n",
    "from trader.pipeline.crawlers.stock_price_crawler import StockPriceCrawler\n",
    "from trader.pipeline.crawlers.stock_chip_crawler import StockChipCrawler\n",
    "from trader.pipeline.crawlers.stock_tick_crawler import StockTickCrawler\n",
    "from trader.pipeline.crawlers.stock_info_crawler import StockInfoCrawler\n",
    "from trader.pipeline.crawlers.financial_statement_crawler import (\n",
    "    FinancialStatementCrawler,\n",
    ")\n",
    "from trader.pipeline.crawlers.monthly_revenue_report_crawler import (\n",
    "    MonthlyRevenueReportCrawler,\n",
    ")\n",
    "\n",
    "\"\"\" Cleaner \"\"\"\n",
    "from trader.pipeline.cleaners.stock_chip_cleaner import StockChipCleaner\n",
    "from trader.pipeline.cleaners.stock_price_cleaner import StockPriceCleaner\n",
    "from trader.pipeline.cleaners.stock_tick_cleaner import StockTickCleaner\n",
    "from trader.pipeline.cleaners.financial_statement_cleaner import (\n",
    "    FinancialStatementCleaner,\n",
    ")\n",
    "from trader.pipeline.cleaners.monthly_revenue_report_cleaner import (\n",
    "    MonthlyRevenueReportCleaner,\n",
    ")\n",
    "\n",
    "\"\"\" Loader \"\"\"\n",
    "from trader.pipeline.loaders.stock_chip_loader import StockChipLoader\n",
    "from trader.pipeline.loaders.stock_price_loader import StockPriceLoader\n",
    "from trader.pipeline.loaders.financial_statement_loader import FinancialStatementLoader\n",
    "from trader.pipeline.loaders.monthly_revenue_report_loader import (\n",
    "    MonthlyRevenueReportLoader,\n",
    ")\n",
    "\n",
    "\"\"\" Updater \"\"\"\n",
    "from trader.pipeline.updaters.stock_tick_updater import StockTickUpdater\n",
    "from trader.pipeline.updaters.stock_chip_updater import StockChipUpdater\n",
    "from trader.pipeline.updaters.stock_price_updater import StockPriceUpdater\n",
    "from trader.pipeline.updaters.financial_statement_updater import (\n",
    "    FinancialStatementUpdater,\n",
    ")\n",
    "from trader.pipeline.updaters.monthly_revenue_report_updater import (\n",
    "    MonthlyRevenueReportUpdater,\n",
    ")\n",
    "\n",
    "\"\"\" Data API \"\"\"\n",
    "from trader.api.stock_chip_api import StockChipAPI\n",
    "from trader.api.stock_tick_api import StockTickAPI\n",
    "\n",
    "\n",
    "\"\"\" Others \"\"\"\n",
    "from trader.pipeline.crawlers.utils.payload import Payload\n",
    "from trader.pipeline.crawlers.utils.request_utils import RequestUtils\n",
    "from trader.pipeline.utils.data_utils import DataUtils\n",
    "from trader.pipeline.utils import (\n",
    "    URLManager,\n",
    "    DataType,\n",
    "    MarketType,\n",
    "    FinancialStatementType,\n",
    "    FileEncoding,\n",
    ")\n",
    "from trader.utils import ShioajiAccount, Units, TimeUtils\n",
    "from trader.config import (\n",
    "    PIPELINE_DOWNLOADS_PATH,\n",
    "    PRICE_DOWNLOADS_PATH,\n",
    "    TICK_DOWNLOADS_PATH,\n",
    "    FINANCIAL_STATEMENT_DOWNLOADS_PATH,\n",
    "    CERTS_FILE_PATH,\n",
    "    CHIP_DOWNLOADS_PATH,\n",
    "    PRICE_TABLE_NAME,\n",
    "    CHIP_TABLE_NAME,\n",
    "    DOWNLOADS_METADATA_DIR_PATH,\n",
    "    FINANCIAL_STATEMENT_META_DIR_PATH,\n",
    "    DB_PATH,\n",
    "    BALANCE_SHEET_TABLE_NAME,\n",
    ")"
   ]
  },
  {
   "cell_type": "code",
   "execution_count": null,
   "metadata": {},
   "outputs": [],
   "source": [
    "start_date = datetime.date(2025, 7, 1)\n",
    "end_date = datetime.date(2025, 7, 2)\n",
    "date = datetime.date(2025, 1, 22)\n",
    "season = 1\n",
    "code = \"2330\""
   ]
  },
  {
   "cell_type": "markdown",
   "metadata": {},
   "source": [
    "### API"
   ]
  },
  {
   "cell_type": "code",
   "execution_count": null,
   "metadata": {},
   "outputs": [],
   "source": [
    "\"\"\"API\"\"\"\n",
    "\n",
    "import sqlite3\n",
    "import pandas as pd\n",
    "from typing import Optional\n",
    "\n",
    "\n",
    "def fetch_table(table_name: str) -> Optional[pd.DataFrame]:\n",
    "    \"\"\"\n",
    "    根據 table_name 從 SQLite 資料庫讀取整張表格\n",
    "    :param db_path: 資料庫路徑\n",
    "    :param table_name: 資料表名稱\n",
    "    :return: pandas DataFrame 或 None（若表格不存在）\n",
    "    \"\"\"\n",
    "    try:\n",
    "        conn = sqlite3.connect(DB_PATH)\n",
    "        query = f\"SELECT * FROM '{table_name}'\"\n",
    "        df = pd.read_sql(query, conn)\n",
    "        conn.close()\n",
    "        return df\n",
    "    except Exception as e:\n",
    "        print(f\"[ERROR] 無法讀取 table `{table_name}`: {e}\")\n",
    "        return None"
   ]
  },
  {
   "cell_type": "code",
   "execution_count": null,
   "metadata": {},
   "outputs": [],
   "source": [
    "\"\"\"Stock Tick\"\"\"\n",
    "\n",
    "start_date = datetime.date(2023, 7, 5)\n",
    "end_date = datetime.date(2023, 7, 5)\n",
    "\n",
    "tick = StockTickAPI()\n",
    "df = tick.get_ordered_ticks(start_date, end_date)\n",
    "df"
   ]
  },
  {
   "cell_type": "code",
   "execution_count": null,
   "metadata": {},
   "outputs": [],
   "source": [
    "\"\"\"Stock Chip\"\"\"\n",
    "\n",
    "chip = StockChipAPI()\n",
    "\n",
    "df = chip.get(start_date, start_date)\n",
    "df"
   ]
  },
  {
   "cell_type": "markdown",
   "metadata": {},
   "source": [
    "### Update"
   ]
  },
  {
   "cell_type": "code",
   "execution_count": null,
   "metadata": {},
   "outputs": [],
   "source": [
    "\"\"\"Stock Price\"\"\"\n",
    "\n",
    "# price_crawler = StockPriceCrawler()\n",
    "# price_cleaner = StockPriceCleaner()\n",
    "# price_loader = StockPriceLoader()\n",
    "price_updater = StockPriceUpdater()\n",
    "price_updater.update(start_date, end_date)\n",
    "# df = price_crawler.crawl_tpex_price(date)\n",
    "# df = price_cleaner.clean_tpex_price(df, date)"
   ]
  },
  {
   "cell_type": "code",
   "execution_count": null,
   "metadata": {},
   "outputs": [],
   "source": [
    "\"\"\"Stock Tick\"\"\"\n",
    "\n",
    "# tick_crawler = StockTickCrawler()\n",
    "# tick_cleaner = StockTickCleaner()\n",
    "# tick_updater = StockTickUpdater()\n",
    "\n",
    "# tick_updater.update(start_date, end_date)"
   ]
  },
  {
   "cell_type": "code",
   "execution_count": null,
   "metadata": {},
   "outputs": [],
   "source": [
    "\"\"\"Stock Chip\"\"\"\n",
    "\n",
    "# chip_crawler = StockChipCrawler()\n",
    "# chip_cleaner = StockChipCleaner()\n",
    "# chip_loader = StockChipLoader()\n",
    "chip_updater = StockChipUpdater()\n",
    "chip_updater.update(start_date, end_date)\n",
    "\n",
    "\n",
    "# twse_df = chip_crawler.crawl_twse_chip(date)\n",
    "# tpex_df = chip_crawler.crawl_tpex_chip(date)\n",
    "\n",
    "# twse_df = chip_cleaner.clean_twse_chip(twse_df, date)\n",
    "# tpex_df = chip_cleaner.clean_tpex_chip(tpex_df, date)\n",
    "\n",
    "# chip_loader.create_db()\n",
    "# chip_loader.add_to_db()"
   ]
  },
  {
   "cell_type": "code",
   "execution_count": null,
   "metadata": {},
   "outputs": [],
   "source": [
    "\"\"\"Monthly Revenue Report Crawler\"\"\"\n",
    "\n",
    "start_year = 2024\n",
    "end_year = 2024\n",
    "start_month = 1\n",
    "end_month = 2\n",
    "\n",
    "# mrr_crawler = MonthlyRevenueReportCrawler()\n",
    "# mrr_cleaner = MonthlyRevenueReportCleaner()\n",
    "# mrr_loader = MonthlyRevenueReportLoader()\n",
    "mrr_updater = MonthlyRevenueReportUpdater()\n",
    "\n",
    "mrr_updater.update(\n",
    "    start_year=start_year,\n",
    "    end_year=end_year,\n",
    "    start_month=start_month,\n",
    "    end_month=end_month,\n",
    ")\n",
    "\n",
    "# df_list = mrr_crawler.crawl_twse_monthly_revenue(year=date.year, month=date.month)\n",
    "# df = mrr_cleaner.clean_monthly_revenue(df_list=df_list, year=date.year, month=date.month)\n",
    "\n",
    "# mrr_loader.create_db()\n",
    "# mrr_loader.add_to_db()"
   ]
  },
  {
   "cell_type": "code",
   "execution_count": null,
   "metadata": {},
   "outputs": [],
   "source": [
    "\"\"\"Financial Statement\"\"\"\n",
    "\n",
    "start_year = 2024\n",
    "end_year = 2024\n",
    "start_season = 1\n",
    "end_season = 2\n",
    "\n",
    "# fs_crawler = FinancialStatementCrawler()\n",
    "# fs_cleaner = FinancialStatementCleaner()\n",
    "# fs_loader = FinancialStatementLoader()\n",
    "fs_updater = FinancialStatementUpdater()\n",
    "\n",
    "fs_updater.update_balance_sheet(start_year, end_year, start_season, end_season)\n",
    "fs_updater.update_comprehensive_income(start_year, end_year, start_season, end_season)\n",
    "fs_updater.update_cash_flow(start_year, end_year, start_season, end_season)"
   ]
  },
  {
   "cell_type": "code",
   "execution_count": null,
   "metadata": {},
   "outputs": [],
   "source": [
    "\"\"\"Balance Sheet\"\"\"\n",
    "\n",
    "df_list = fs_crawler.crawl_balance_sheet(date.year, season)\n",
    "df = fs_cleaner.clean_balance_sheet(df_list, date.year, season)"
   ]
  },
  {
   "cell_type": "code",
   "execution_count": null,
   "metadata": {},
   "outputs": [],
   "source": [
    "\"\"\"Comprehensive Income\"\"\"\n",
    "\n",
    "df_list = fs_crawler.crawl_comprehensive_income(date.year, season)\n",
    "df = fs_cleaner.clean_comprehensive_income(df_list, date.year, season)"
   ]
  },
  {
   "cell_type": "code",
   "execution_count": null,
   "metadata": {},
   "outputs": [],
   "source": [
    "\"\"\"Cash Flow\"\"\"\n",
    "\n",
    "df_list = fs_crawler.crawl_cash_flow(date.year, season)\n",
    "df = fs_cleaner.clean_cash_flow(df_list, date.year, season)"
   ]
  }
 ],
 "metadata": {
  "kernelspec": {
   "display_name": "quant",
   "language": "python",
   "name": "python3"
  },
  "language_info": {
   "codemirror_mode": {
    "name": "ipython",
    "version": 3
   },
   "file_extension": ".py",
   "mimetype": "text/x-python",
   "name": "python",
   "nbconvert_exporter": "python",
   "pygments_lexer": "ipython3",
   "version": "3.12.11"
  }
 },
 "nbformat": 4,
 "nbformat_minor": 2
}
