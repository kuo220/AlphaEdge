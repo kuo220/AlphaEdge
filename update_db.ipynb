{
 "cells": [
  {
   "cell_type": "code",
   "execution_count": null,
   "id": "0",
   "metadata": {},
   "outputs": [],
   "source": [
    "import sys\n",
    "from pathlib import Path\n",
    "import os\n",
    "import sqlite3\n",
    "import ipywidgets as widgets\n",
    "from IPython.display import display\n",
    "from tqdm import tqdm\n",
    "from tqdm import tnrange, tqdm_notebook\n",
    "from dateutil.rrule import rrule, DAILY, MONTHLY\n",
    "from dateutil.relativedelta import relativedelta\n",
    "\n",
    "from trader.utils import ShioajiAccount\n",
    "from trader.data import (Data, SQLiteTools, TickDBManager)\n",
    "from trader.crawler import (Crawler, CrawlStockChip, CrawlStockTick, CrawlQuantX)\n",
    "from trader.config import QUANTX_DB_PATH"
   ]
  },
  {
   "cell_type": "markdown",
   "id": "1",
   "metadata": {},
   "source": [
    "### Load Data Crawlers"
   ]
  },
  {
   "cell_type": "code",
   "execution_count": null,
   "id": "2",
   "metadata": {},
   "outputs": [],
   "source": [
    "try:\n",
    "    crawler = Crawler()\n",
    "    chip_crawler = crawler.chip\n",
    "    tick_crawler = crawler.tick\n",
    "    conn = sqlite3.connect(QUANTX_DB_PATH)\n",
    "    qx_crawler = crawler.quantx\n",
    "    \n",
    "except Exception as e: # DolphinDB isn't connected\n",
    "    chip_crawler = CrawlStockChip()\n",
    "    tick_crawler = None\n",
    "    conn = sqlite3.connect(QUANTX_DB_PATH)\n",
    "    qx_crawler = CrawlQuantX()"
   ]
  },
  {
   "cell_type": "markdown",
   "id": "3",
   "metadata": {},
   "source": [
    "### Update Chip Database"
   ]
  },
  {
   "cell_type": "code",
   "execution_count": null,
   "id": "4",
   "metadata": {},
   "outputs": [],
   "source": [
    "chip_crawler.widget()"
   ]
  },
  {
   "cell_type": "markdown",
   "id": "5",
   "metadata": {},
   "source": [
    "### Update Tick Database\n",
    "\n",
    "#### 目前資料\n",
    "* 2020/04/01 ~ 2024/05/10"
   ]
  },
  {
   "cell_type": "code",
   "execution_count": null,
   "id": "6",
   "metadata": {},
   "outputs": [],
   "source": [
    "if tick_crawler is not None:\n",
    "    tick_crawler.widget()"
   ]
  },
  {
   "cell_type": "markdown",
   "id": "7",
   "metadata": {},
   "source": [
    "### Update QuantX Database\n",
    "\n",
    "#### 每季財報 時間區間補充：\n",
    "\n",
    "關於每季財報爬取，選取的時間範圍要「包含」以下時段，就能夠爬到截止日期的財報囉！例如：\n",
    "\n",
    "* 2010年3月31號 --> 2009 第四季\n",
    "* 2010年5月15號 --> 2010 第一季\n",
    "* 2010年8月14號 --> 2010 第二季\n",
    "* 2010年11月14號 --> 2010 第三季\n",
    "\n",
    "所以假如我們想要抓2018年的第一季，就可以輸入一個時間範圍，例如：\n",
    "\n",
    "* 2018年5月01號 到 2018年5月31號\n",
    "\n",
    "因為這段時間有包含 2018年5月15號，所以就會下載 2018年第一季的財報喔！"
   ]
  },
  {
   "cell_type": "code",
   "execution_count": null,
   "id": "8",
   "metadata": {},
   "outputs": [],
   "source": [
    "qx_crawler.widget(conn, 'price', qx_crawler.crawl_price, qx_crawler.date_range)\n",
    "qx_crawler.widget(conn, 'monthly_revenue', qx_crawler.crawl_monthly_report, qx_crawler.month_range)\n",
    "qx_crawler.widget(conn, 'finance_statement', qx_crawler.crawl_finance_statement_by_date, qx_crawler.season_range)\n"
   ]
  }
 ],
 "metadata": {
  "kernelspec": {
   "display_name": "quantx_x86",
   "language": "python",
   "name": "python3"
  },
  "language_info": {
   "codemirror_mode": {
    "name": "ipython",
    "version": 3
   },
   "file_extension": ".py",
   "mimetype": "text/x-python",
   "name": "python",
   "nbconvert_exporter": "python",
   "pygments_lexer": "ipython3",
   "version": "3.9.17"
  }
 },
 "nbformat": 4,
 "nbformat_minor": 5
}
